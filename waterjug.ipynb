{
  "nbformat": 4,
  "nbformat_minor": 0,
  "metadata": {
    "colab": {
      "name": "waterjug.ipynb",
      "provenance": []
    },
    "kernelspec": {
      "name": "python3",
      "display_name": "Python 3"
    },
    "language_info": {
      "name": "python"
    }
  },
  "cells": [
    {
      "cell_type": "code",
      "execution_count": 1,
      "metadata": {
        "colab": {
          "base_uri": "https://localhost:8080/"
        },
        "id": "Sac_0h-KFo9s",
        "outputId": "ecf9f31b-c285-455b-deb8-5da224815706"
      },
      "outputs": [
        {
          "output_type": "stream",
          "name": "stdout",
          "text": [
            "JUG1\tJUG2\n",
            "0   0\n",
            "3   0\n",
            "0   3\n",
            "3   3\n",
            "2   4\n",
            "0   2\n"
          ]
        }
      ],
      "source": [
        "def pour(jug1, jug2):\n",
        "    max1, max2, fill =  3, 4, 2  #Change maximum capacity and final capacity\n",
        "    print(jug1,\" \", jug2)\n",
        "    if jug2 == fill:\n",
        "        return\n",
        "    elif jug2 == max2:\n",
        "        pour(0, jug1)\n",
        "    elif jug1 != 0 and jug2 == 0:\n",
        "        pour(0, jug1)\n",
        "    elif jug1 == fill:\n",
        "        pour(jug1, 0)\n",
        "    elif jug1 < max1:\n",
        "        pour(max1, jug2)\n",
        "    elif jug1 < (max2-jug2):\n",
        "        pour(0, (jug1+jug2))\n",
        "    else:\n",
        "        pour(jug1-(max2-jug2), (max2-jug2)+jug2)\n",
        "\n",
        "print(\"JUG1\\tJUG2\")\n",
        "pour(0, 0)"
      ]
    },
    {
      "cell_type": "code",
      "source": [
        ""
      ],
      "metadata": {
        "id": "COgHhQHrF1Hd"
      },
      "execution_count": null,
      "outputs": []
    }
  ]
}